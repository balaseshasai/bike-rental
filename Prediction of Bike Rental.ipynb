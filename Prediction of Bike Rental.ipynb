{
 "cells": [
  {
   "cell_type": "code",
   "execution_count": 1,
   "metadata": {},
   "outputs": [],
   "source": [
    "################################### Bike rental count ##############################################"
   ]
  },
  {
   "cell_type": "code",
   "execution_count": 2,
   "metadata": {},
   "outputs": [],
   "source": [
    "#importing libraries\n",
    "import os\n",
    "import pandas as pd\n",
    "import numpy as np\n",
    "import matplotlib.pyplot as plt\n",
    "import seaborn as sns\n",
    "from scipy import stats\n",
    "import statsmodels.api as sm\n",
    "from statsmodels.formula.api import ols\n",
    "from scipy.stats import chi2_contingency\n",
    "from sklearn.model_selection import train_test_split\n",
    "from sklearn.tree import DecisionTreeRegressor\n",
    "from sklearn.ensemble import RandomForestRegressor"
   ]
  },
  {
   "cell_type": "code",
   "execution_count": 3,
   "metadata": {},
   "outputs": [],
   "source": [
    "#set current working directory\n",
    "os.chdir(\"C:/Users/nikhi/Desktop/Bike-Rental-Prediction-master\")"
   ]
  },
  {
   "cell_type": "code",
   "execution_count": 4,
   "metadata": {},
   "outputs": [
    {
     "data": {
      "text/plain": [
       "'C:\\\\Users\\\\nikhi\\\\Desktop\\\\Bike-Rental-Prediction-master'"
      ]
     },
     "execution_count": 4,
     "metadata": {},
     "output_type": "execute_result"
    }
   ],
   "source": [
    "#cross-check working directory\n",
    "os.getcwd()"
   ]
  },
  {
   "cell_type": "code",
   "execution_count": 5,
   "metadata": {},
   "outputs": [],
   "source": [
    "#Loading the data\n",
    "bike_rental =  pd.read_csv(\"Day.csv\", index_col = 0)"
   ]
  },
  {
   "cell_type": "code",
   "execution_count": 6,
   "metadata": {},
   "outputs": [],
   "source": [
    "#deleted atemp variable as it contributes similar info in temp variable (feature selection)"
   ]
  },
  {
   "cell_type": "code",
   "execution_count": 7,
   "metadata": {
    "scrolled": true
   },
   "outputs": [
    {
     "name": "stdout",
     "output_type": "stream",
     "text": [
      "<class 'pandas.core.frame.DataFrame'>\n",
      "Int64Index: 731 entries, 1 to 731\n",
      "Data columns (total 14 columns):\n",
      "dteday        731 non-null object\n",
      "season        731 non-null int64\n",
      "yr            731 non-null int64\n",
      "mnth          731 non-null int64\n",
      "holiday       731 non-null int64\n",
      "weekday       731 non-null int64\n",
      "workingday    731 non-null int64\n",
      "weathersit    731 non-null int64\n",
      "temp          731 non-null float64\n",
      "hum           731 non-null float64\n",
      "windspeed     731 non-null float64\n",
      "casual        731 non-null int64\n",
      "registered    731 non-null int64\n",
      "cnt           731 non-null int64\n",
      "dtypes: float64(3), int64(10), object(1)\n",
      "memory usage: 85.7+ KB\n"
     ]
    }
   ],
   "source": [
    "bike_rental.info()"
   ]
  },
  {
   "cell_type": "code",
   "execution_count": 8,
   "metadata": {},
   "outputs": [
    {
     "data": {
      "text/html": [
       "<div>\n",
       "<style scoped>\n",
       "    .dataframe tbody tr th:only-of-type {\n",
       "        vertical-align: middle;\n",
       "    }\n",
       "\n",
       "    .dataframe tbody tr th {\n",
       "        vertical-align: top;\n",
       "    }\n",
       "\n",
       "    .dataframe thead th {\n",
       "        text-align: right;\n",
       "    }\n",
       "</style>\n",
       "<table border=\"1\" class=\"dataframe\">\n",
       "  <thead>\n",
       "    <tr style=\"text-align: right;\">\n",
       "      <th></th>\n",
       "      <th>season</th>\n",
       "      <th>yr</th>\n",
       "      <th>mnth</th>\n",
       "      <th>holiday</th>\n",
       "      <th>weekday</th>\n",
       "      <th>workingday</th>\n",
       "      <th>weathersit</th>\n",
       "      <th>temp</th>\n",
       "      <th>hum</th>\n",
       "      <th>windspeed</th>\n",
       "      <th>casual</th>\n",
       "      <th>registered</th>\n",
       "      <th>cnt</th>\n",
       "    </tr>\n",
       "  </thead>\n",
       "  <tbody>\n",
       "    <tr>\n",
       "      <td>count</td>\n",
       "      <td>731.000000</td>\n",
       "      <td>731.000000</td>\n",
       "      <td>731.000000</td>\n",
       "      <td>731.000000</td>\n",
       "      <td>731.000000</td>\n",
       "      <td>731.000000</td>\n",
       "      <td>731.000000</td>\n",
       "      <td>731.000000</td>\n",
       "      <td>731.000000</td>\n",
       "      <td>731.000000</td>\n",
       "      <td>731.000000</td>\n",
       "      <td>731.000000</td>\n",
       "      <td>731.000000</td>\n",
       "    </tr>\n",
       "    <tr>\n",
       "      <td>mean</td>\n",
       "      <td>2.496580</td>\n",
       "      <td>0.500684</td>\n",
       "      <td>6.519836</td>\n",
       "      <td>0.028728</td>\n",
       "      <td>2.997264</td>\n",
       "      <td>0.683995</td>\n",
       "      <td>1.395349</td>\n",
       "      <td>0.495385</td>\n",
       "      <td>0.627894</td>\n",
       "      <td>0.190486</td>\n",
       "      <td>848.176471</td>\n",
       "      <td>3656.172367</td>\n",
       "      <td>4504.348837</td>\n",
       "    </tr>\n",
       "    <tr>\n",
       "      <td>std</td>\n",
       "      <td>1.110807</td>\n",
       "      <td>0.500342</td>\n",
       "      <td>3.451913</td>\n",
       "      <td>0.167155</td>\n",
       "      <td>2.004787</td>\n",
       "      <td>0.465233</td>\n",
       "      <td>0.544894</td>\n",
       "      <td>0.183051</td>\n",
       "      <td>0.142429</td>\n",
       "      <td>0.077498</td>\n",
       "      <td>686.622488</td>\n",
       "      <td>1560.256377</td>\n",
       "      <td>1937.211452</td>\n",
       "    </tr>\n",
       "    <tr>\n",
       "      <td>min</td>\n",
       "      <td>1.000000</td>\n",
       "      <td>0.000000</td>\n",
       "      <td>1.000000</td>\n",
       "      <td>0.000000</td>\n",
       "      <td>0.000000</td>\n",
       "      <td>0.000000</td>\n",
       "      <td>1.000000</td>\n",
       "      <td>0.059130</td>\n",
       "      <td>0.000000</td>\n",
       "      <td>0.022392</td>\n",
       "      <td>2.000000</td>\n",
       "      <td>20.000000</td>\n",
       "      <td>22.000000</td>\n",
       "    </tr>\n",
       "    <tr>\n",
       "      <td>25%</td>\n",
       "      <td>2.000000</td>\n",
       "      <td>0.000000</td>\n",
       "      <td>4.000000</td>\n",
       "      <td>0.000000</td>\n",
       "      <td>1.000000</td>\n",
       "      <td>0.000000</td>\n",
       "      <td>1.000000</td>\n",
       "      <td>0.337083</td>\n",
       "      <td>0.520000</td>\n",
       "      <td>0.134950</td>\n",
       "      <td>315.500000</td>\n",
       "      <td>2497.000000</td>\n",
       "      <td>3152.000000</td>\n",
       "    </tr>\n",
       "    <tr>\n",
       "      <td>50%</td>\n",
       "      <td>3.000000</td>\n",
       "      <td>1.000000</td>\n",
       "      <td>7.000000</td>\n",
       "      <td>0.000000</td>\n",
       "      <td>3.000000</td>\n",
       "      <td>1.000000</td>\n",
       "      <td>1.000000</td>\n",
       "      <td>0.498333</td>\n",
       "      <td>0.626667</td>\n",
       "      <td>0.180975</td>\n",
       "      <td>713.000000</td>\n",
       "      <td>3662.000000</td>\n",
       "      <td>4548.000000</td>\n",
       "    </tr>\n",
       "    <tr>\n",
       "      <td>75%</td>\n",
       "      <td>3.000000</td>\n",
       "      <td>1.000000</td>\n",
       "      <td>10.000000</td>\n",
       "      <td>0.000000</td>\n",
       "      <td>5.000000</td>\n",
       "      <td>1.000000</td>\n",
       "      <td>2.000000</td>\n",
       "      <td>0.655417</td>\n",
       "      <td>0.730209</td>\n",
       "      <td>0.233214</td>\n",
       "      <td>1096.000000</td>\n",
       "      <td>4776.500000</td>\n",
       "      <td>5956.000000</td>\n",
       "    </tr>\n",
       "    <tr>\n",
       "      <td>max</td>\n",
       "      <td>4.000000</td>\n",
       "      <td>1.000000</td>\n",
       "      <td>12.000000</td>\n",
       "      <td>1.000000</td>\n",
       "      <td>6.000000</td>\n",
       "      <td>1.000000</td>\n",
       "      <td>3.000000</td>\n",
       "      <td>0.861667</td>\n",
       "      <td>0.972500</td>\n",
       "      <td>0.507463</td>\n",
       "      <td>3410.000000</td>\n",
       "      <td>6946.000000</td>\n",
       "      <td>8714.000000</td>\n",
       "    </tr>\n",
       "  </tbody>\n",
       "</table>\n",
       "</div>"
      ],
      "text/plain": [
       "           season          yr        mnth     holiday     weekday  workingday  \\\n",
       "count  731.000000  731.000000  731.000000  731.000000  731.000000  731.000000   \n",
       "mean     2.496580    0.500684    6.519836    0.028728    2.997264    0.683995   \n",
       "std      1.110807    0.500342    3.451913    0.167155    2.004787    0.465233   \n",
       "min      1.000000    0.000000    1.000000    0.000000    0.000000    0.000000   \n",
       "25%      2.000000    0.000000    4.000000    0.000000    1.000000    0.000000   \n",
       "50%      3.000000    1.000000    7.000000    0.000000    3.000000    1.000000   \n",
       "75%      3.000000    1.000000   10.000000    0.000000    5.000000    1.000000   \n",
       "max      4.000000    1.000000   12.000000    1.000000    6.000000    1.000000   \n",
       "\n",
       "       weathersit        temp         hum   windspeed       casual  \\\n",
       "count  731.000000  731.000000  731.000000  731.000000   731.000000   \n",
       "mean     1.395349    0.495385    0.627894    0.190486   848.176471   \n",
       "std      0.544894    0.183051    0.142429    0.077498   686.622488   \n",
       "min      1.000000    0.059130    0.000000    0.022392     2.000000   \n",
       "25%      1.000000    0.337083    0.520000    0.134950   315.500000   \n",
       "50%      1.000000    0.498333    0.626667    0.180975   713.000000   \n",
       "75%      2.000000    0.655417    0.730209    0.233214  1096.000000   \n",
       "max      3.000000    0.861667    0.972500    0.507463  3410.000000   \n",
       "\n",
       "        registered          cnt  \n",
       "count   731.000000   731.000000  \n",
       "mean   3656.172367  4504.348837  \n",
       "std    1560.256377  1937.211452  \n",
       "min      20.000000    22.000000  \n",
       "25%    2497.000000  3152.000000  \n",
       "50%    3662.000000  4548.000000  \n",
       "75%    4776.500000  5956.000000  \n",
       "max    6946.000000  8714.000000  "
      ]
     },
     "execution_count": 8,
     "metadata": {},
     "output_type": "execute_result"
    }
   ],
   "source": [
    "bike_rental.describe()"
   ]
  },
  {
   "cell_type": "code",
   "execution_count": 9,
   "metadata": {},
   "outputs": [],
   "source": [
    "########################### data pre-processing ################"
   ]
  },
  {
   "cell_type": "code",
   "execution_count": 10,
   "metadata": {},
   "outputs": [],
   "source": [
    "#################### 1. exploratory data analysis ##################"
   ]
  },
  {
   "cell_type": "code",
   "execution_count": 11,
   "metadata": {},
   "outputs": [],
   "source": [
    "#Converting the variables to required data format \n",
    "\n",
    "bike_rental['dteday'] = pd.to_datetime(bike_rental['dteday'],yearfirst=True)\n",
    "\n",
    "bike_rental['season'] = bike_rental['season'].astype('category')\n",
    "bike_rental['yr'] = bike_rental['yr'].astype('category')\n",
    "bike_rental['mnth'] = bike_rental['mnth'].astype('category')\n",
    "bike_rental['holiday'] = bike_rental['holiday'].astype('category')\n",
    "bike_rental['weekday'] = bike_rental['weekday'].astype('category')\n",
    "bike_rental['workingday'] = bike_rental['workingday'].astype('category')\n",
    "bike_rental['weathersit'] = bike_rental['weathersit'].astype('category')\n"
   ]
  },
  {
   "cell_type": "code",
   "execution_count": 12,
   "metadata": {},
   "outputs": [],
   "source": [
    "bike_rental['temp'] = bike_rental['temp'].astype('float')\n",
    "bike_rental['hum'] = bike_rental['hum'].astype('float')\n",
    "bike_rental['windspeed'] = bike_rental['windspeed'].astype('float')\n",
    "bike_rental['casual'] = bike_rental['casual'].astype('float')\n",
    "bike_rental['registered'] = bike_rental['registered'].astype('float')\n",
    "bike_rental['cnt'] = bike_rental['cnt'].astype('float')"
   ]
  },
  {
   "cell_type": "code",
   "execution_count": 13,
   "metadata": {},
   "outputs": [],
   "source": [
    "############# 2. Missing Value Analysis ###########"
   ]
  },
  {
   "cell_type": "code",
   "execution_count": 14,
   "metadata": {},
   "outputs": [],
   "source": [
    "#creating a dataframe with sum of missing values\n",
    "missing_val = pd.DataFrame(bike_rental.isnull().sum())"
   ]
  },
  {
   "cell_type": "code",
   "execution_count": 15,
   "metadata": {},
   "outputs": [
    {
     "data": {
      "text/html": [
       "<div>\n",
       "<style scoped>\n",
       "    .dataframe tbody tr th:only-of-type {\n",
       "        vertical-align: middle;\n",
       "    }\n",
       "\n",
       "    .dataframe tbody tr th {\n",
       "        vertical-align: top;\n",
       "    }\n",
       "\n",
       "    .dataframe thead th {\n",
       "        text-align: right;\n",
       "    }\n",
       "</style>\n",
       "<table border=\"1\" class=\"dataframe\">\n",
       "  <thead>\n",
       "    <tr style=\"text-align: right;\">\n",
       "      <th></th>\n",
       "      <th>0</th>\n",
       "    </tr>\n",
       "  </thead>\n",
       "  <tbody>\n",
       "    <tr>\n",
       "      <td>dteday</td>\n",
       "      <td>0</td>\n",
       "    </tr>\n",
       "    <tr>\n",
       "      <td>season</td>\n",
       "      <td>0</td>\n",
       "    </tr>\n",
       "    <tr>\n",
       "      <td>yr</td>\n",
       "      <td>0</td>\n",
       "    </tr>\n",
       "    <tr>\n",
       "      <td>mnth</td>\n",
       "      <td>0</td>\n",
       "    </tr>\n",
       "    <tr>\n",
       "      <td>holiday</td>\n",
       "      <td>0</td>\n",
       "    </tr>\n",
       "    <tr>\n",
       "      <td>weekday</td>\n",
       "      <td>0</td>\n",
       "    </tr>\n",
       "    <tr>\n",
       "      <td>workingday</td>\n",
       "      <td>0</td>\n",
       "    </tr>\n",
       "    <tr>\n",
       "      <td>weathersit</td>\n",
       "      <td>0</td>\n",
       "    </tr>\n",
       "    <tr>\n",
       "      <td>temp</td>\n",
       "      <td>0</td>\n",
       "    </tr>\n",
       "    <tr>\n",
       "      <td>hum</td>\n",
       "      <td>0</td>\n",
       "    </tr>\n",
       "    <tr>\n",
       "      <td>windspeed</td>\n",
       "      <td>0</td>\n",
       "    </tr>\n",
       "    <tr>\n",
       "      <td>casual</td>\n",
       "      <td>0</td>\n",
       "    </tr>\n",
       "    <tr>\n",
       "      <td>registered</td>\n",
       "      <td>0</td>\n",
       "    </tr>\n",
       "    <tr>\n",
       "      <td>cnt</td>\n",
       "      <td>0</td>\n",
       "    </tr>\n",
       "  </tbody>\n",
       "</table>\n",
       "</div>"
      ],
      "text/plain": [
       "            0\n",
       "dteday      0\n",
       "season      0\n",
       "yr          0\n",
       "mnth        0\n",
       "holiday     0\n",
       "weekday     0\n",
       "workingday  0\n",
       "weathersit  0\n",
       "temp        0\n",
       "hum         0\n",
       "windspeed   0\n",
       "casual      0\n",
       "registered  0\n",
       "cnt         0"
      ]
     },
     "execution_count": 15,
     "metadata": {},
     "output_type": "execute_result"
    }
   ],
   "source": [
    "missing_val"
   ]
  },
  {
   "cell_type": "code",
   "execution_count": 16,
   "metadata": {},
   "outputs": [],
   "source": [
    "#There is no missing value in the dataframe"
   ]
  },
  {
   "cell_type": "code",
   "execution_count": 17,
   "metadata": {},
   "outputs": [],
   "source": [
    "############################## 3. outlier analysis #################"
   ]
  },
  {
   "cell_type": "code",
   "execution_count": 18,
   "metadata": {
    "scrolled": false
   },
   "outputs": [
    {
     "data": {
      "image/png": "[encoded data removed]",
      "text/plain": [
       "<Figure size 1440x360 with 1 Axes>"
      ]
     },
     "metadata": {
      "needs_background": "light"
     },
     "output_type": "display_data"
    }
   ],
   "source": [
    "#1.temp variable\n",
    "plt.figure(figsize=(20,5)) \n",
    "plt.xlim(0,1)\n",
    "sns.boxplot(x=bike_rental['temp'],data=bike_rental,orient='h')\n",
    "plt.title('Boxplot of temp')\n",
    "\n",
    "plt.show()"
   ]
  },
  {
   "cell_type": "code",
   "execution_count": 19,
   "metadata": {},
   "outputs": [],
   "source": [
    "# there is no outlier in temp variable"
   ]
  },
  {
   "cell_type": "code",
   "execution_count": 20,
   "metadata": {
    "scrolled": true
   },
   "outputs": [
    {
     "data": {
      "image/png": "[encoded data removed]",
      "text/plain": [
       "<Figure size 1440x360 with 1 Axes>"
      ]
     },
     "metadata": {
      "needs_background": "light"
     },
     "output_type": "display_data"
    }
   ],
   "source": [
    "#2.hum variable\n",
    "plt.figure(figsize=(20,5)) \n",
    "plt.xlim(0,1)\n",
    "sns.boxplot(x=bike_rental['hum'],data=bike_rental,orient='h')\n",
    "plt.title('Boxplot of hum')\n",
    "\n",
    "plt.show()"
   ]
  },
  {
   "cell_type": "code",
   "execution_count": 21,
   "metadata": {},
   "outputs": [],
   "source": [
    "#there is a negative outlier in hum variable"
   ]
  },
  {
   "cell_type": "code",
   "execution_count": 22,
   "metadata": {},
   "outputs": [
    {
     "data": {
      "text/plain": [
       "0.4103967168262654"
      ]
     },
     "execution_count": 22,
     "metadata": {},
     "output_type": "execute_result"
    }
   ],
   "source": [
    "sum(bike_rental['hum']<0.27)/len(bike_rental['hum'])*100"
   ]
  },
  {
   "cell_type": "code",
   "execution_count": 23,
   "metadata": {},
   "outputs": [
    {
     "data": {
      "image/png": "[encoded data removed]",
      "text/plain": [
       "<Figure size 1440x360 with 1 Axes>"
      ]
     },
     "metadata": {
      "needs_background": "light"
     },
     "output_type": "display_data"
    }
   ],
   "source": [
    "#3.windspeed variable\n",
    "plt.figure(figsize=(20,5)) \n",
    "plt.xlim(0,0.55)\n",
    "sns.boxplot(x=bike_rental['windspeed'],data=bike_rental,orient='h')\n",
    "plt.title('Boxplot of windspeed')\n",
    "\n",
    "plt.show()"
   ]
  },
  {
   "cell_type": "code",
   "execution_count": 24,
   "metadata": {},
   "outputs": [],
   "source": [
    "#there is a positive outlier in windspeed variable"
   ]
  },
  {
   "cell_type": "code",
   "execution_count": 25,
   "metadata": {
    "scrolled": true
   },
   "outputs": [
    {
     "data": {
      "text/plain": [
       "2.3255813953488373"
      ]
     },
     "execution_count": 25,
     "metadata": {},
     "output_type": "execute_result"
    }
   ],
   "source": [
    "sum(bike_rental['windspeed']>0.37)/len(bike_rental['windspeed'])*100"
   ]
  },
  {
   "cell_type": "code",
   "execution_count": 26,
   "metadata": {
    "scrolled": true
   },
   "outputs": [
    {
     "data": {
      "image/png": "[encoded data removed]",
      "text/plain": [
       "<Figure size 1440x360 with 1 Axes>"
      ]
     },
     "metadata": {
      "needs_background": "light"
     },
     "output_type": "display_data"
    }
   ],
   "source": [
    "#4. casual variable\n",
    "plt.figure(figsize=(20,5)) \n",
    "plt.xlim(0,3500)\n",
    "sns.boxplot(x=bike_rental['casual'],data=bike_rental,orient='h')\n",
    "plt.title('Boxplot of casual')\n",
    "\n",
    "plt.show()"
   ]
  },
  {
   "cell_type": "code",
   "execution_count": 27,
   "metadata": {},
   "outputs": [],
   "source": [
    "#there is a positive outlier in casual variable"
   ]
  },
  {
   "cell_type": "code",
   "execution_count": 28,
   "metadata": {},
   "outputs": [
    {
     "data": {
      "text/plain": [
       "6.292749658002736"
      ]
     },
     "execution_count": 28,
     "metadata": {},
     "output_type": "execute_result"
    }
   ],
   "source": [
    "sum(bike_rental['casual']>2250)/len(bike_rental['casual'])*100"
   ]
  },
  {
   "cell_type": "code",
   "execution_count": 29,
   "metadata": {
    "scrolled": true
   },
   "outputs": [
    {
     "data": {
      "image/png": "[encoded data removed]",
      "text/plain": [
       "<Figure size 1440x360 with 1 Axes>"
      ]
     },
     "metadata": {
      "needs_background": "light"
     },
     "output_type": "display_data"
    }
   ],
   "source": [
    "#5. registered variable\n",
    "plt.figure(figsize=(20,5)) \n",
    "plt.xlim(0,9000)\n",
    "sns.boxplot(x=bike_rental['registered'],data=bike_rental,orient='h')\n",
    "plt.title('Boxplot of registered')\n",
    "\n",
    "plt.show()"
   ]
  },
  {
   "cell_type": "code",
   "execution_count": 30,
   "metadata": {},
   "outputs": [],
   "source": [
    "#there is no outlier in registered variable"
   ]
  },
  {
   "cell_type": "code",
   "execution_count": 31,
   "metadata": {},
   "outputs": [],
   "source": [
    "#detect and delete outliers"
   ]
  },
  {
   "cell_type": "code",
   "execution_count": 32,
   "metadata": {},
   "outputs": [
    {
     "name": "stdout",
     "output_type": "stream",
     "text": [
      "-855.25\n",
      "2266.75\n"
     ]
    }
   ],
   "source": [
    "cnames = ['casual']\n",
    "for i in cnames:\n",
    "    q75, q25 = np.percentile(bike_rental.loc[:,i], [75 ,25])\n",
    "    iqr = q75 - q25\n",
    "     \n",
    "     \n",
    "        \n",
    "min = q25 - (iqr*1.5)\n",
    "max = q75 + (iqr*1.5)\n",
    "        \n",
    "print(min)\n",
    "print(max)\n",
    "\n",
    "bike_rental = bike_rental.drop(bike_rental[bike_rental.loc[:,i] < min].index)\n",
    "bike_rental = bike_rental.drop(bike_rental[bike_rental.loc[:,'casual'] > max].index)"
   ]
  },
  {
   "cell_type": "code",
   "execution_count": 33,
   "metadata": {},
   "outputs": [
    {
     "name": "stdout",
     "output_type": "stream",
     "text": [
      "0.19999974999999992\n",
      "1.0533337500000002\n"
     ]
    }
   ],
   "source": [
    "cnames = ['hum']\n",
    "for i in cnames:\n",
    "    q75, q25 = np.percentile(bike_rental.loc[:,i], [75 ,25])\n",
    "    iqr = q75 - q25\n",
    "     \n",
    "     \n",
    "        \n",
    "min = q25 - (iqr*1.5)\n",
    "max = q75 + (iqr*1.5)\n",
    "        \n",
    "print(min)\n",
    "print(max)\n",
    "\n",
    "bike_rental = bike_rental.drop(bike_rental[bike_rental.loc[:,i] < min].index)\n",
    "bike_rental = bike_rental.drop(bike_rental[bike_rental.loc[:,'hum'] > max].index)"
   ]
  },
  {
   "cell_type": "code",
   "execution_count": 34,
   "metadata": {},
   "outputs": [
    {
     "name": "stdout",
     "output_type": "stream",
     "text": [
      "-0.012456500000000065\n",
      "0.38062750000000006\n"
     ]
    }
   ],
   "source": [
    "cnames = ['windspeed']\n",
    "for i in cnames:\n",
    "    q75, q25 = np.percentile(bike_rental.loc[:,i], [75 ,25])\n",
    "    iqr = q75 - q25\n",
    "     \n",
    "     \n",
    "        \n",
    "min = q25 - (iqr*1.5)\n",
    "max = q75 + (iqr*1.5)\n",
    "        \n",
    "print(min)\n",
    "print(max)\n",
    "\n",
    "bike_rental = bike_rental.drop(bike_rental[bike_rental.loc[:,i] < min].index)\n",
    "bike_rental = bike_rental.drop(bike_rental[bike_rental.loc[:,'windspeed'] > max].index)"
   ]
  },
  {
   "cell_type": "code",
   "execution_count": 35,
   "metadata": {},
   "outputs": [
    {
     "data": {
      "text/plain": [
       "(673, 14)"
      ]
     },
     "execution_count": 35,
     "metadata": {},
     "output_type": "execute_result"
    }
   ],
   "source": [
    "bike_rental.shape"
   ]
  },
  {
   "cell_type": "code",
   "execution_count": 36,
   "metadata": {},
   "outputs": [],
   "source": [
    "######################### 4. feature selection ################"
   ]
  },
  {
   "cell_type": "code",
   "execution_count": 37,
   "metadata": {},
   "outputs": [],
   "source": [
    "#correlation analysis\n",
    "\n",
    "#continous variables\n",
    "cnames = ['temp','hum', 'windspeed', 'casual', 'registered','cnt']"
   ]
  },
  {
   "cell_type": "code",
   "execution_count": 38,
   "metadata": {
    "scrolled": false
   },
   "outputs": [
    {
     "data": {
      "image/png": "[encoded data removed]",
      "text/plain": [
       "<Figure size 1080x1080 with 2 Axes>"
      ]
     },
     "metadata": {
      "needs_background": "light"
     },
     "output_type": "display_data"
    }
   ],
   "source": [
    "#Plot using seaborn library\n",
    "plt.figure(figsize=(15,15))\n",
    "_ = sns.heatmap(bike_rental[cnames].corr(), square=True, cmap='RdYlGn',linewidths=0.5,linecolor='w',annot=True)\n",
    "plt.title('Correlation matrix ')\n",
    "\n",
    "plt.show()"
   ]
  },
  {
   "cell_type": "code",
   "execution_count": 39,
   "metadata": {},
   "outputs": [],
   "source": [
    "#Removing workingday because they dont contribute much to the independent variable\n",
    "bike_rental = bike_rental.drop(['workingday'], axis =1)"
   ]
  },
  {
   "cell_type": "code",
   "execution_count": 40,
   "metadata": {},
   "outputs": [],
   "source": [
    "#we cannot carry out chi-square test as target variable (cnt) is continous in nature"
   ]
  },
  {
   "cell_type": "code",
   "execution_count": 41,
   "metadata": {},
   "outputs": [],
   "source": [
    "#ANOVA for categorical variables"
   ]
  },
  {
   "cell_type": "code",
   "execution_count": 42,
   "metadata": {},
   "outputs": [],
   "source": [
    "model = ols('cnt ~ C(season)+C(yr)+C(mnth)+C(weekday)+C(holiday)+C(weathersit)',data=bike_rental).fit()"
   ]
  },
  {
   "cell_type": "code",
   "execution_count": 43,
   "metadata": {
    "scrolled": true
   },
   "outputs": [
    {
     "data": {
      "text/html": [
       "<div>\n",
       "<style scoped>\n",
       "    .dataframe tbody tr th:only-of-type {\n",
       "        vertical-align: middle;\n",
       "    }\n",
       "\n",
       "    .dataframe tbody tr th {\n",
       "        vertical-align: top;\n",
       "    }\n",
       "\n",
       "    .dataframe thead th {\n",
       "        text-align: right;\n",
       "    }\n",
       "</style>\n",
       "<table border=\"1\" class=\"dataframe\">\n",
       "  <thead>\n",
       "    <tr style=\"text-align: right;\">\n",
       "      <th></th>\n",
       "      <th>df</th>\n",
       "      <th>sum_sq</th>\n",
       "      <th>mean_sq</th>\n",
       "      <th>F</th>\n",
       "      <th>PR(&gt;F)</th>\n",
       "    </tr>\n",
       "  </thead>\n",
       "  <tbody>\n",
       "    <tr>\n",
       "      <td>C(season)</td>\n",
       "      <td>3.0</td>\n",
       "      <td>8.201685e+08</td>\n",
       "      <td>2.733895e+08</td>\n",
       "      <td>428.924243</td>\n",
       "      <td>2.005383e-153</td>\n",
       "    </tr>\n",
       "    <tr>\n",
       "      <td>C(yr)</td>\n",
       "      <td>1.0</td>\n",
       "      <td>7.299401e+08</td>\n",
       "      <td>7.299401e+08</td>\n",
       "      <td>1145.212172</td>\n",
       "      <td>2.326049e-145</td>\n",
       "    </tr>\n",
       "    <tr>\n",
       "      <td>C(mnth)</td>\n",
       "      <td>11.0</td>\n",
       "      <td>1.612817e+08</td>\n",
       "      <td>1.466197e+07</td>\n",
       "      <td>23.003352</td>\n",
       "      <td>5.525170e-40</td>\n",
       "    </tr>\n",
       "    <tr>\n",
       "      <td>C(weekday)</td>\n",
       "      <td>6.0</td>\n",
       "      <td>2.470288e+07</td>\n",
       "      <td>4.117146e+06</td>\n",
       "      <td>6.459443</td>\n",
       "      <td>1.252947e-06</td>\n",
       "    </tr>\n",
       "    <tr>\n",
       "      <td>C(holiday)</td>\n",
       "      <td>1.0</td>\n",
       "      <td>4.906127e+06</td>\n",
       "      <td>4.906127e+06</td>\n",
       "      <td>7.697284</td>\n",
       "      <td>5.689739e-03</td>\n",
       "    </tr>\n",
       "    <tr>\n",
       "      <td>C(weathersit)</td>\n",
       "      <td>2.0</td>\n",
       "      <td>1.789559e+08</td>\n",
       "      <td>8.947797e+07</td>\n",
       "      <td>140.383120</td>\n",
       "      <td>2.231628e-51</td>\n",
       "    </tr>\n",
       "    <tr>\n",
       "      <td>Residual</td>\n",
       "      <td>648.0</td>\n",
       "      <td>4.130249e+08</td>\n",
       "      <td>6.373841e+05</td>\n",
       "      <td>NaN</td>\n",
       "      <td>NaN</td>\n",
       "    </tr>\n",
       "  </tbody>\n",
       "</table>\n",
       "</div>"
      ],
      "text/plain": [
       "                  df        sum_sq       mean_sq            F         PR(>F)\n",
       "C(season)        3.0  8.201685e+08  2.733895e+08   428.924243  2.005383e-153\n",
       "C(yr)            1.0  7.299401e+08  7.299401e+08  1145.212172  2.326049e-145\n",
       "C(mnth)         11.0  1.612817e+08  1.466197e+07    23.003352   5.525170e-40\n",
       "C(weekday)       6.0  2.470288e+07  4.117146e+06     6.459443   1.252947e-06\n",
       "C(holiday)       1.0  4.906127e+06  4.906127e+06     7.697284   5.689739e-03\n",
       "C(weathersit)    2.0  1.789559e+08  8.947797e+07   140.383120   2.231628e-51\n",
       "Residual       648.0  4.130249e+08  6.373841e+05          NaN            NaN"
      ]
     },
     "execution_count": 43,
     "metadata": {},
     "output_type": "execute_result"
    }
   ],
   "source": [
    "aov_table = sm.stats.anova_lm(model)\n",
    "aov_table"
   ]
  },
  {
   "cell_type": "code",
   "execution_count": 44,
   "metadata": {},
   "outputs": [],
   "source": [
    "#Every variable has p-value less than 0.05 therefore we reject the null hypothesis."
   ]
  },
  {
   "cell_type": "code",
   "execution_count": 45,
   "metadata": {},
   "outputs": [],
   "source": [
    "############################# 5. feature scaling ##################"
   ]
  },
  {
   "cell_type": "code",
   "execution_count": 46,
   "metadata": {},
   "outputs": [],
   "source": [
    "gnames =['casual', 'registered']"
   ]
  },
  {
   "cell_type": "code",
   "execution_count": 47,
   "metadata": {},
   "outputs": [
    {
     "name": "stdout",
     "output_type": "stream",
     "text": [
      "casual\n",
      "registered\n"
     ]
    }
   ],
   "source": [
    "for i in gnames:\n",
    "    print(i)\n",
    "    bike_rental[i] = (bike_rental[i] - bike_rental[i].min())/(bike_rental[i].max() - bike_rental[i].min())"
   ]
  },
  {
   "cell_type": "code",
   "execution_count": 48,
   "metadata": {},
   "outputs": [
    {
     "data": {
      "text/html": [
       "<div>\n",
       "<style scoped>\n",
       "    .dataframe tbody tr th:only-of-type {\n",
       "        vertical-align: middle;\n",
       "    }\n",
       "\n",
       "    .dataframe tbody tr th {\n",
       "        vertical-align: top;\n",
       "    }\n",
       "\n",
       "    .dataframe thead th {\n",
       "        text-align: right;\n",
       "    }\n",
       "</style>\n",
       "<table border=\"1\" class=\"dataframe\">\n",
       "  <thead>\n",
       "    <tr style=\"text-align: right;\">\n",
       "      <th></th>\n",
       "      <th>dteday</th>\n",
       "      <th>season</th>\n",
       "      <th>yr</th>\n",
       "      <th>mnth</th>\n",
       "      <th>holiday</th>\n",
       "      <th>weekday</th>\n",
       "      <th>weathersit</th>\n",
       "      <th>temp</th>\n",
       "      <th>hum</th>\n",
       "      <th>windspeed</th>\n",
       "      <th>casual</th>\n",
       "      <th>registered</th>\n",
       "      <th>cnt</th>\n",
       "    </tr>\n",
       "    <tr>\n",
       "      <th>instant</th>\n",
       "      <th></th>\n",
       "      <th></th>\n",
       "      <th></th>\n",
       "      <th></th>\n",
       "      <th></th>\n",
       "      <th></th>\n",
       "      <th></th>\n",
       "      <th></th>\n",
       "      <th></th>\n",
       "      <th></th>\n",
       "      <th></th>\n",
       "      <th></th>\n",
       "      <th></th>\n",
       "    </tr>\n",
       "  </thead>\n",
       "  <tbody>\n",
       "    <tr>\n",
       "      <td>1</td>\n",
       "      <td>2011-01-01</td>\n",
       "      <td>1</td>\n",
       "      <td>0</td>\n",
       "      <td>1</td>\n",
       "      <td>0</td>\n",
       "      <td>6</td>\n",
       "      <td>2</td>\n",
       "      <td>0.344167</td>\n",
       "      <td>0.805833</td>\n",
       "      <td>0.160446</td>\n",
       "      <td>0.145833</td>\n",
       "      <td>0.091539</td>\n",
       "      <td>985.0</td>\n",
       "    </tr>\n",
       "    <tr>\n",
       "      <td>2</td>\n",
       "      <td>2011-02-01</td>\n",
       "      <td>1</td>\n",
       "      <td>0</td>\n",
       "      <td>1</td>\n",
       "      <td>0</td>\n",
       "      <td>0</td>\n",
       "      <td>2</td>\n",
       "      <td>0.363478</td>\n",
       "      <td>0.696087</td>\n",
       "      <td>0.248539</td>\n",
       "      <td>0.057181</td>\n",
       "      <td>0.093849</td>\n",
       "      <td>801.0</td>\n",
       "    </tr>\n",
       "    <tr>\n",
       "      <td>3</td>\n",
       "      <td>2011-03-01</td>\n",
       "      <td>1</td>\n",
       "      <td>0</td>\n",
       "      <td>1</td>\n",
       "      <td>0</td>\n",
       "      <td>1</td>\n",
       "      <td>1</td>\n",
       "      <td>0.196364</td>\n",
       "      <td>0.437273</td>\n",
       "      <td>0.248309</td>\n",
       "      <td>0.052305</td>\n",
       "      <td>0.174560</td>\n",
       "      <td>1349.0</td>\n",
       "    </tr>\n",
       "    <tr>\n",
       "      <td>4</td>\n",
       "      <td>2011-04-01</td>\n",
       "      <td>1</td>\n",
       "      <td>0</td>\n",
       "      <td>1</td>\n",
       "      <td>0</td>\n",
       "      <td>2</td>\n",
       "      <td>1</td>\n",
       "      <td>0.200000</td>\n",
       "      <td>0.590435</td>\n",
       "      <td>0.160296</td>\n",
       "      <td>0.046986</td>\n",
       "      <td>0.207046</td>\n",
       "      <td>1562.0</td>\n",
       "    </tr>\n",
       "    <tr>\n",
       "      <td>5</td>\n",
       "      <td>2011-05-01</td>\n",
       "      <td>1</td>\n",
       "      <td>0</td>\n",
       "      <td>1</td>\n",
       "      <td>0</td>\n",
       "      <td>3</td>\n",
       "      <td>1</td>\n",
       "      <td>0.226957</td>\n",
       "      <td>0.436957</td>\n",
       "      <td>0.186900</td>\n",
       "      <td>0.035461</td>\n",
       "      <td>0.216286</td>\n",
       "      <td>1600.0</td>\n",
       "    </tr>\n",
       "  </tbody>\n",
       "</table>\n",
       "</div>"
      ],
      "text/plain": [
       "            dteday season yr mnth holiday weekday weathersit      temp  \\\n",
       "instant                                                                  \n",
       "1       2011-01-01      1  0    1       0       6          2  0.344167   \n",
       "2       2011-02-01      1  0    1       0       0          2  0.363478   \n",
       "3       2011-03-01      1  0    1       0       1          1  0.196364   \n",
       "4       2011-04-01      1  0    1       0       2          1  0.200000   \n",
       "5       2011-05-01      1  0    1       0       3          1  0.226957   \n",
       "\n",
       "              hum  windspeed    casual  registered     cnt  \n",
       "instant                                                     \n",
       "1        0.805833   0.160446  0.145833    0.091539   985.0  \n",
       "2        0.696087   0.248539  0.057181    0.093849   801.0  \n",
       "3        0.437273   0.248309  0.052305    0.174560  1349.0  \n",
       "4        0.590435   0.160296  0.046986    0.207046  1562.0  \n",
       "5        0.436957   0.186900  0.035461    0.216286  1600.0  "
      ]
     },
     "execution_count": 48,
     "metadata": {},
     "output_type": "execute_result"
    }
   ],
   "source": [
    "bike_rental.head()"
   ]
  },
  {
   "cell_type": "code",
   "execution_count": 49,
   "metadata": {},
   "outputs": [],
   "source": [
    "############# machine learning algorithm ###########"
   ]
  },
  {
   "cell_type": "code",
   "execution_count": 50,
   "metadata": {},
   "outputs": [],
   "source": [
    "train, test = train_test_split(bike_rental, test_size=0.25)"
   ]
  },
  {
   "cell_type": "code",
   "execution_count": 51,
   "metadata": {},
   "outputs": [],
   "source": [
    "train_features = train[['season','yr','mnth','weekday','holiday','weathersit','temp','windspeed','casual', 'registered']].values\n",
    "train_target = train['cnt'].values\n",
    "\n",
    "test_features = test[['season','yr','mnth','weekday','holiday','weathersit','temp','windspeed', 'casual', 'registered']].values\n",
    "test_target = test['cnt'].values"
   ]
  },
  {
   "cell_type": "code",
   "execution_count": null,
   "metadata": {},
   "outputs": [],
   "source": [
    "####################### 1. linear regression #####################"
   ]
  },
  {
   "cell_type": "code",
   "execution_count": null,
   "metadata": {},
   "outputs": [],
   "source": [
    "#train the model using traing data sets\n",
    "lm_model = sm.OLS(train_target, train_features.astype(float)).fit()"
   ]
  },
  {
   "cell_type": "code",
   "execution_count": null,
   "metadata": {
    "scrolled": true
   },
   "outputs": [],
   "source": [
    "#Summary of model\n",
    "lm_model.summary()"
   ]
  },
  {
   "cell_type": "code",
   "execution_count": null,
   "metadata": {},
   "outputs": [],
   "source": [
    "#predict the  model\n",
    "lm_predict = lm_model.predict(test_features)"
   ]
  },
  {
   "cell_type": "code",
   "execution_count": null,
   "metadata": {},
   "outputs": [],
   "source": [
    "#MAPE is considered for evaluation since it gives error in terms of percentage and it is easy to compare between all the models"
   ]
  },
  {
   "cell_type": "code",
   "execution_count": null,
   "metadata": {},
   "outputs": [],
   "source": [
    "#Calculate MAPE\n",
    "def MAPE(y_true, y_pred): \n",
    "    mape = np.mean(np.abs((y_true - y_pred) / y_true))*100\n",
    "    return mape"
   ]
  },
  {
   "cell_type": "code",
   "execution_count": null,
   "metadata": {},
   "outputs": [],
   "source": [
    "#evaluate model using MAPE\n",
    "MAPE(test_target, lm_predict)"
   ]
  },
  {
   "cell_type": "code",
   "execution_count": null,
   "metadata": {},
   "outputs": [],
   "source": [
    "#MAPE  for linear regression model is = 0.09"
   ]
  },
  {
   "cell_type": "code",
   "execution_count": null,
   "metadata": {},
   "outputs": [],
   "source": [
    "################################## 2. decision tree ####################"
   ]
  },
  {
   "cell_type": "code",
   "execution_count": null,
   "metadata": {},
   "outputs": [],
   "source": [
    "#train the model using traing data sets\n",
    "dt_model = DecisionTreeRegressor(max_depth =2).fit(train_features, train_target)"
   ]
  },
  {
   "cell_type": "code",
   "execution_count": null,
   "metadata": {},
   "outputs": [],
   "source": [
    "#predict the  model\n",
    "dt_predict = dt_model.predict(test_features)"
   ]
  },
  {
   "cell_type": "code",
   "execution_count": null,
   "metadata": {},
   "outputs": [],
   "source": [
    "#Calculate MAPE\n",
    "def MAPE(y_true, y_pred): \n",
    "    mape = np.mean(np.abs((y_true - y_pred) / y_true))*100\n",
    "    return mape"
   ]
  },
  {
   "cell_type": "code",
   "execution_count": null,
   "metadata": {},
   "outputs": [],
   "source": [
    "#evaluate model using MAPE\n",
    "MAPE(test_target, dt_predict)"
   ]
  },
  {
   "cell_type": "code",
   "execution_count": null,
   "metadata": {},
   "outputs": [],
   "source": [
    "#max_depth = 12"
   ]
  },
  {
   "cell_type": "code",
   "execution_count": null,
   "metadata": {},
   "outputs": [],
   "source": [
    "#train the model using traing data sets\n",
    "dt_model = DecisionTreeRegressor(max_depth =12).fit(train_features, train_target)"
   ]
  },
  {
   "cell_type": "code",
   "execution_count": null,
   "metadata": {},
   "outputs": [],
   "source": [
    "#predict the  model\n",
    "dt_predict = dt_model.predict(test_features)"
   ]
  },
  {
   "cell_type": "code",
   "execution_count": null,
   "metadata": {},
   "outputs": [],
   "source": [
    "#Calculate MAPE\n",
    "def MAPE(y_true, y_pred): \n",
    "    mape = np.mean(np.abs((y_true - y_pred) / y_true))*100\n",
    "    return mape"
   ]
  },
  {
   "cell_type": "code",
   "execution_count": null,
   "metadata": {},
   "outputs": [],
   "source": [
    "#evaluate model using MAPE\n",
    "MAPE(test_target, dt_predict)"
   ]
  },
  {
   "cell_type": "code",
   "execution_count": null,
   "metadata": {},
   "outputs": [],
   "source": [
    "#max_depth = 20"
   ]
  },
  {
   "cell_type": "code",
   "execution_count": null,
   "metadata": {},
   "outputs": [],
   "source": [
    "#train the model using traing data sets\n",
    "dt_model = DecisionTreeRegressor(max_depth =20).fit(train_features, train_target)"
   ]
  },
  {
   "cell_type": "code",
   "execution_count": null,
   "metadata": {},
   "outputs": [],
   "source": [
    "#predict the  model\n",
    "dt_predict = dt_model.predict(test_features)"
   ]
  },
  {
   "cell_type": "code",
   "execution_count": null,
   "metadata": {},
   "outputs": [],
   "source": [
    "#Calculate MAPE\n",
    "def MAPE(y_true, y_pred): \n",
    "    mape = np.mean(np.abs((y_true - y_pred) / y_true))*100\n",
    "    return mape"
   ]
  },
  {
   "cell_type": "code",
   "execution_count": null,
   "metadata": {},
   "outputs": [],
   "source": [
    "#evaluate model using MAPE\n",
    "MAPE(test_target, dt_predict)"
   ]
  },
  {
   "cell_type": "code",
   "execution_count": null,
   "metadata": {},
   "outputs": [],
   "source": [
    "##MAPE  for decision tree model is = 3.32"
   ]
  },
  {
   "cell_type": "code",
   "execution_count": null,
   "metadata": {},
   "outputs": [],
   "source": [
    "############################## 3. random forest #########################"
   ]
  },
  {
   "cell_type": "code",
   "execution_count": null,
   "metadata": {},
   "outputs": [],
   "source": [
    "#train the model using traing data sets\n",
    "rf_model = RandomForestRegressor(n_estimators= 500, random_state=100).fit(train_features,train_target)"
   ]
  },
  {
   "cell_type": "code",
   "execution_count": null,
   "metadata": {},
   "outputs": [],
   "source": [
    "#predict the  model\n",
    "rf_predict= rf_model.predict(test_features)"
   ]
  },
  {
   "cell_type": "code",
   "execution_count": null,
   "metadata": {},
   "outputs": [],
   "source": [
    "#Calculate MAPE\n",
    "def MAPE(y_true, y_pred): \n",
    "    mape = np.mean(np.abs((y_true - y_pred) / y_true))*100\n",
    "    return mape"
   ]
  },
  {
   "cell_type": "code",
   "execution_count": null,
   "metadata": {},
   "outputs": [],
   "source": [
    "#evaluate model using MAPE\n",
    "MAPE(test_target, rf_predict)"
   ]
  },
  {
   "cell_type": "code",
   "execution_count": null,
   "metadata": {},
   "outputs": [],
   "source": [
    "## MAPE for random forest is = 1.97"
   ]
  },
  {
   "cell_type": "code",
   "execution_count": null,
   "metadata": {},
   "outputs": [],
   "source": [
    "#conclusion: linear regression model is considered as best because it has  less % of error"
   ]
  }
 ],
 "metadata": {
  "kernelspec": {
   "display_name": "Python 3",
   "language": "python",
   "name": "python3"
  },
  "language_info": {
   "codemirror_mode": {
    "name": "ipython",
    "version": 3
   },
   "file_extension": ".py",
   "mimetype": "text/x-python",
   "name": "python",
   "nbconvert_exporter": "python",
   "pygments_lexer": "ipython3",
   "version": "3.7.4"
  }
 },
 "nbformat": 4,
 "nbformat_minor": 2
}
